{
 "cells": [
  {
   "cell_type": "code",
   "execution_count": 357,
   "id": "b20f51ee",
   "metadata": {
    "scrolled": true
   },
   "outputs": [],
   "source": [
    "import pandas as pd\n",
    "import numpy as np\n",
    "import matplotlib.pyplot as plt\n",
    "import seaborn as sns\n",
    "import nltk\n",
    "from nltk.corpus import stopwords\n",
    "from nltk.tokenize import word_tokenize\n",
    "from nltk.stem import WordNetLemmatizer\n",
    "import string\n",
    "import sklearn\n",
    "from sklearn.feature_extraction.text import TfidfVectorizer \n",
    "from sklearn.model_selection import train_test_split\n",
    "from sklearn.naive_bayes import MultinomialNB\n",
    "from sklearn.metrics import accuracy_score,precision_score,recall_score,f1_score,classification_report"
   ]
  },
  {
   "cell_type": "code",
   "execution_count": 358,
   "id": "2e8386fa",
   "metadata": {
    "scrolled": true
   },
   "outputs": [
    {
     "name": "stderr",
     "output_type": "stream",
     "text": [
      "/var/folders/9p/8bd7krp5039fhrwssnzc_k780000gn/T/ipykernel_30164/3017973699.py:1: ParserWarning: Falling back to the 'python' engine because the 'c' engine does not support regex separators (separators > 1 char and different from '\\s+' are interpreted as regex); you can avoid this warning by specifying engine='python'.\n",
      "  train_data = pd.read_csv(\"train_data.txt\",sep = \":::\",names=['ID','TITLE','GENRE','DESCRIPTION'])\n"
     ]
    },
    {
     "data": {
      "text/html": [
       "<div>\n",
       "<style scoped>\n",
       "    .dataframe tbody tr th:only-of-type {\n",
       "        vertical-align: middle;\n",
       "    }\n",
       "\n",
       "    .dataframe tbody tr th {\n",
       "        vertical-align: top;\n",
       "    }\n",
       "\n",
       "    .dataframe thead th {\n",
       "        text-align: right;\n",
       "    }\n",
       "</style>\n",
       "<table border=\"1\" class=\"dataframe\">\n",
       "  <thead>\n",
       "    <tr style=\"text-align: right;\">\n",
       "      <th></th>\n",
       "      <th>ID</th>\n",
       "      <th>TITLE</th>\n",
       "      <th>GENRE</th>\n",
       "      <th>DESCRIPTION</th>\n",
       "    </tr>\n",
       "  </thead>\n",
       "  <tbody>\n",
       "    <tr>\n",
       "      <th>0</th>\n",
       "      <td>1</td>\n",
       "      <td>Oscar et la dame rose (2009)</td>\n",
       "      <td>drama</td>\n",
       "      <td>Listening in to a conversation between his do...</td>\n",
       "    </tr>\n",
       "    <tr>\n",
       "      <th>1</th>\n",
       "      <td>2</td>\n",
       "      <td>Cupid (1997)</td>\n",
       "      <td>thriller</td>\n",
       "      <td>A brother and sister with a past incestuous r...</td>\n",
       "    </tr>\n",
       "    <tr>\n",
       "      <th>2</th>\n",
       "      <td>3</td>\n",
       "      <td>Young, Wild and Wonderful (1980)</td>\n",
       "      <td>adult</td>\n",
       "      <td>As the bus empties the students for their fie...</td>\n",
       "    </tr>\n",
       "    <tr>\n",
       "      <th>3</th>\n",
       "      <td>4</td>\n",
       "      <td>The Secret Sin (1915)</td>\n",
       "      <td>drama</td>\n",
       "      <td>To help their unemployed father make ends mee...</td>\n",
       "    </tr>\n",
       "    <tr>\n",
       "      <th>4</th>\n",
       "      <td>5</td>\n",
       "      <td>The Unrecovered (2007)</td>\n",
       "      <td>drama</td>\n",
       "      <td>The film's title refers not only to the un-re...</td>\n",
       "    </tr>\n",
       "  </tbody>\n",
       "</table>\n",
       "</div>"
      ],
      "text/plain": [
       "   ID                               TITLE       GENRE  \\\n",
       "0   1       Oscar et la dame rose (2009)       drama    \n",
       "1   2                       Cupid (1997)    thriller    \n",
       "2   3   Young, Wild and Wonderful (1980)       adult    \n",
       "3   4              The Secret Sin (1915)       drama    \n",
       "4   5             The Unrecovered (2007)       drama    \n",
       "\n",
       "                                         DESCRIPTION  \n",
       "0   Listening in to a conversation between his do...  \n",
       "1   A brother and sister with a past incestuous r...  \n",
       "2   As the bus empties the students for their fie...  \n",
       "3   To help their unemployed father make ends mee...  \n",
       "4   The film's title refers not only to the un-re...  "
      ]
     },
     "execution_count": 358,
     "metadata": {},
     "output_type": "execute_result"
    }
   ],
   "source": [
    "train_data = pd.read_csv(\"train_data.txt\",sep = \":::\",names=['ID','TITLE','GENRE','DESCRIPTION'])\n",
    "train_data.head()"
   ]
  },
  {
   "cell_type": "code",
   "execution_count": 359,
   "id": "67621e97",
   "metadata": {
    "scrolled": false
   },
   "outputs": [
    {
     "name": "stderr",
     "output_type": "stream",
     "text": [
      "/var/folders/9p/8bd7krp5039fhrwssnzc_k780000gn/T/ipykernel_30164/2350961085.py:1: ParserWarning: Falling back to the 'python' engine because the 'c' engine does not support regex separators (separators > 1 char and different from '\\s+' are interpreted as regex); you can avoid this warning by specifying engine='python'.\n",
      "  test_data_solution = pd.read_csv(\"test_data_solution.txt\",sep = \":::\",names=['ID','TITLE','GENRE','DESCRIPTION'])\n"
     ]
    },
    {
     "data": {
      "text/html": [
       "<div>\n",
       "<style scoped>\n",
       "    .dataframe tbody tr th:only-of-type {\n",
       "        vertical-align: middle;\n",
       "    }\n",
       "\n",
       "    .dataframe tbody tr th {\n",
       "        vertical-align: top;\n",
       "    }\n",
       "\n",
       "    .dataframe thead th {\n",
       "        text-align: right;\n",
       "    }\n",
       "</style>\n",
       "<table border=\"1\" class=\"dataframe\">\n",
       "  <thead>\n",
       "    <tr style=\"text-align: right;\">\n",
       "      <th></th>\n",
       "      <th>ID</th>\n",
       "      <th>TITLE</th>\n",
       "      <th>GENRE</th>\n",
       "      <th>DESCRIPTION</th>\n",
       "    </tr>\n",
       "  </thead>\n",
       "  <tbody>\n",
       "    <tr>\n",
       "      <th>0</th>\n",
       "      <td>1</td>\n",
       "      <td>Edgar's Lunch (1998)</td>\n",
       "      <td>thriller</td>\n",
       "      <td>L.R. Brane loves his life - his car, his apar...</td>\n",
       "    </tr>\n",
       "    <tr>\n",
       "      <th>1</th>\n",
       "      <td>2</td>\n",
       "      <td>La guerra de papá (1977)</td>\n",
       "      <td>comedy</td>\n",
       "      <td>Spain, March 1964: Quico is a very naughty ch...</td>\n",
       "    </tr>\n",
       "    <tr>\n",
       "      <th>2</th>\n",
       "      <td>3</td>\n",
       "      <td>Off the Beaten Track (2010)</td>\n",
       "      <td>documentary</td>\n",
       "      <td>One year in the life of Albin and his family ...</td>\n",
       "    </tr>\n",
       "    <tr>\n",
       "      <th>3</th>\n",
       "      <td>4</td>\n",
       "      <td>Meu Amigo Hindu (2015)</td>\n",
       "      <td>drama</td>\n",
       "      <td>His father has died, he hasn't spoken with hi...</td>\n",
       "    </tr>\n",
       "    <tr>\n",
       "      <th>4</th>\n",
       "      <td>5</td>\n",
       "      <td>Er nu zhai (1955)</td>\n",
       "      <td>drama</td>\n",
       "      <td>Before he was known internationally as a mart...</td>\n",
       "    </tr>\n",
       "  </tbody>\n",
       "</table>\n",
       "</div>"
      ],
      "text/plain": [
       "   ID                          TITLE          GENRE  \\\n",
       "0   1          Edgar's Lunch (1998)       thriller    \n",
       "1   2      La guerra de papá (1977)         comedy    \n",
       "2   3   Off the Beaten Track (2010)    documentary    \n",
       "3   4        Meu Amigo Hindu (2015)          drama    \n",
       "4   5             Er nu zhai (1955)          drama    \n",
       "\n",
       "                                         DESCRIPTION  \n",
       "0   L.R. Brane loves his life - his car, his apar...  \n",
       "1   Spain, March 1964: Quico is a very naughty ch...  \n",
       "2   One year in the life of Albin and his family ...  \n",
       "3   His father has died, he hasn't spoken with hi...  \n",
       "4   Before he was known internationally as a mart...  "
      ]
     },
     "execution_count": 359,
     "metadata": {},
     "output_type": "execute_result"
    }
   ],
   "source": [
    "test_data_solution = pd.read_csv(\"test_data_solution.txt\",sep = \":::\",names=['ID','TITLE','GENRE','DESCRIPTION'])\n",
    "test_data_solution.head()"
   ]
  },
  {
   "cell_type": "code",
   "execution_count": 360,
   "id": "08c56227",
   "metadata": {},
   "outputs": [
    {
     "name": "stderr",
     "output_type": "stream",
     "text": [
      "/var/folders/9p/8bd7krp5039fhrwssnzc_k780000gn/T/ipykernel_30164/879018774.py:1: ParserWarning: Falling back to the 'python' engine because the 'c' engine does not support regex separators (separators > 1 char and different from '\\s+' are interpreted as regex); you can avoid this warning by specifying engine='python'.\n",
      "  test_data = pd.read_csv(\"test_data.txt\",sep = \":::\",names=['ID','TITLE','DESCRIPTION'])\n"
     ]
    },
    {
     "data": {
      "text/html": [
       "<div>\n",
       "<style scoped>\n",
       "    .dataframe tbody tr th:only-of-type {\n",
       "        vertical-align: middle;\n",
       "    }\n",
       "\n",
       "    .dataframe tbody tr th {\n",
       "        vertical-align: top;\n",
       "    }\n",
       "\n",
       "    .dataframe thead th {\n",
       "        text-align: right;\n",
       "    }\n",
       "</style>\n",
       "<table border=\"1\" class=\"dataframe\">\n",
       "  <thead>\n",
       "    <tr style=\"text-align: right;\">\n",
       "      <th></th>\n",
       "      <th>ID</th>\n",
       "      <th>TITLE</th>\n",
       "      <th>DESCRIPTION</th>\n",
       "    </tr>\n",
       "  </thead>\n",
       "  <tbody>\n",
       "    <tr>\n",
       "      <th>0</th>\n",
       "      <td>1</td>\n",
       "      <td>Edgar's Lunch (1998)</td>\n",
       "      <td>L.R. Brane loves his life - his car, his apar...</td>\n",
       "    </tr>\n",
       "    <tr>\n",
       "      <th>1</th>\n",
       "      <td>2</td>\n",
       "      <td>La guerra de papá (1977)</td>\n",
       "      <td>Spain, March 1964: Quico is a very naughty ch...</td>\n",
       "    </tr>\n",
       "    <tr>\n",
       "      <th>2</th>\n",
       "      <td>3</td>\n",
       "      <td>Off the Beaten Track (2010)</td>\n",
       "      <td>One year in the life of Albin and his family ...</td>\n",
       "    </tr>\n",
       "    <tr>\n",
       "      <th>3</th>\n",
       "      <td>4</td>\n",
       "      <td>Meu Amigo Hindu (2015)</td>\n",
       "      <td>His father has died, he hasn't spoken with hi...</td>\n",
       "    </tr>\n",
       "    <tr>\n",
       "      <th>4</th>\n",
       "      <td>5</td>\n",
       "      <td>Er nu zhai (1955)</td>\n",
       "      <td>Before he was known internationally as a mart...</td>\n",
       "    </tr>\n",
       "  </tbody>\n",
       "</table>\n",
       "</div>"
      ],
      "text/plain": [
       "   ID                          TITLE  \\\n",
       "0   1          Edgar's Lunch (1998)    \n",
       "1   2      La guerra de papá (1977)    \n",
       "2   3   Off the Beaten Track (2010)    \n",
       "3   4        Meu Amigo Hindu (2015)    \n",
       "4   5             Er nu zhai (1955)    \n",
       "\n",
       "                                         DESCRIPTION  \n",
       "0   L.R. Brane loves his life - his car, his apar...  \n",
       "1   Spain, March 1964: Quico is a very naughty ch...  \n",
       "2   One year in the life of Albin and his family ...  \n",
       "3   His father has died, he hasn't spoken with hi...  \n",
       "4   Before he was known internationally as a mart...  "
      ]
     },
     "execution_count": 360,
     "metadata": {},
     "output_type": "execute_result"
    }
   ],
   "source": [
    "test_data = pd.read_csv(\"test_data.txt\",sep = \":::\",names=['ID','TITLE','DESCRIPTION'])\n",
    "test_data.head()"
   ]
  },
  {
   "cell_type": "code",
   "execution_count": 361,
   "id": "94224024",
   "metadata": {
    "scrolled": true
   },
   "outputs": [
    {
     "data": {
      "image/png": "[encoded data removed]",
      "text/plain": [
       "<Figure size 2000x800 with 1 Axes>"
      ]
     },
     "metadata": {},
     "output_type": "display_data"
    }
   ],
   "source": [
    "plt.figure(figsize=(20,8))\n",
    "sns.countplot(y=train_data['GENRE'], order = train_data['GENRE'].value_counts().index)\n",
    "plt.title('MOVIE CLASSIFICATION')\n",
    "plt.xlabel('Number of Movies')\n",
    "plt.ylabel('Genre')\n",
    "plt.show()"
   ]
  },
  {
   "cell_type": "code",
   "execution_count": 362,
   "id": "dddd2518",
   "metadata": {
    "scrolled": true
   },
   "outputs": [
    {
     "data": {
      "image/png": "[encoded data removed]",
      "text/plain": [
       "<Figure size 1800x800 with 1 Axes>"
      ]
     },
     "metadata": {},
     "output_type": "display_data"
    }
   ],
   "source": [
    "train_data[\"Description_Length\"]=train_data['DESCRIPTION'].apply(len)\n",
    "plt.figure(figsize=(18,8))\n",
    "sns.barplot(x=\"GENRE\",y=\"Description_Length\", data=train_data)\n",
    "plt.title('Genre Description Length')\n",
    "plt.xlabel('Genre')\n",
    "plt.ylabel('Description Length')\n",
    "plt.show()\n"
   ]
  },
  {
   "cell_type": "code",
   "execution_count": 363,
   "id": "3bef9be3",
   "metadata": {
    "scrolled": true
   },
   "outputs": [
    {
     "data": {
      "image/png": "[encoded data removed]",
      "text/plain": [
       "<Figure size 2000x800 with 1 Axes>"
      ]
     },
     "metadata": {},
     "output_type": "display_data"
    }
   ],
   "source": [
    "genre_count = train_data[\"GENRE\"].value_counts().head(8)\n",
    "genre_count_asc = genre_count.sort_values(ascending=True)\n",
    "plt.figure(figsize=(20,8))\n",
    "genre_count_asc.plot(kind=\"barh\",color='green')\n",
    "plt.title('MOVIE CLASSIFICATION')\n",
    "plt.xlabel('Number of Movies')\n",
    "plt.ylabel('Genre')\n",
    "plt.show()"
   ]
  },
  {
   "cell_type": "code",
   "execution_count": 364,
   "id": "525d63a5",
   "metadata": {
    "scrolled": true
   },
   "outputs": [
    {
     "name": "stderr",
     "output_type": "stream",
     "text": [
      "[nltk_data] Downloading package stopwords to\n",
      "[nltk_data]     /Users/prakashkannan/nltk_data...\n",
      "[nltk_data]   Package stopwords is already up-to-date!\n",
      "[nltk_data] Downloading package punkt to\n",
      "[nltk_data]     /Users/prakashkannan/nltk_data...\n",
      "[nltk_data]   Package punkt is already up-to-date!\n",
      "[nltk_data] Downloading package wordnet to\n",
      "[nltk_data]     /Users/prakashkannan/nltk_data...\n",
      "[nltk_data]   Package wordnet is already up-to-date!\n"
     ]
    }
   ],
   "source": [
    "nltk.download('stopwords')\n",
    "nltk.download('punkt')\n",
    "nltk.download('wordnet')\n",
    "\n",
    "def preprocess_text(text):\n",
    "    tokens = word_tokenize(text)\n",
    "    tokens = [word.lower() for word in tokens if word.isalnum()]\n",
    "    stop_words = set(stopwords.words('english'))\n",
    "    tokens = [word for word in tokens if not word in stop_words]\n",
    "    lemmatizer = WordNetLemmatizer()\n",
    "    tokens = [lemmatizer.lemmatize(word) for word in tokens]\n",
    "    preprocessed_text = ' '.join(tokens)\n",
    "    return preprocessed_text\n",
    "\n",
    "train_data['Description_Preprocessed']=train_data[\"DESCRIPTION\"].apply(preprocess_text)"
   ]
  },
  {
   "cell_type": "code",
   "execution_count": 365,
   "id": "8f447f26",
   "metadata": {},
   "outputs": [
    {
     "data": {
      "text/html": [
       "<div>\n",
       "<style scoped>\n",
       "    .dataframe tbody tr th:only-of-type {\n",
       "        vertical-align: middle;\n",
       "    }\n",
       "\n",
       "    .dataframe tbody tr th {\n",
       "        vertical-align: top;\n",
       "    }\n",
       "\n",
       "    .dataframe thead th {\n",
       "        text-align: right;\n",
       "    }\n",
       "</style>\n",
       "<table border=\"1\" class=\"dataframe\">\n",
       "  <thead>\n",
       "    <tr style=\"text-align: right;\">\n",
       "      <th></th>\n",
       "      <th>ID</th>\n",
       "      <th>TITLE</th>\n",
       "      <th>GENRE</th>\n",
       "      <th>DESCRIPTION</th>\n",
       "      <th>Description_Length</th>\n",
       "      <th>Description_Preprocessed</th>\n",
       "    </tr>\n",
       "  </thead>\n",
       "  <tbody>\n",
       "    <tr>\n",
       "      <th>0</th>\n",
       "      <td>1</td>\n",
       "      <td>Oscar et la dame rose (2009)</td>\n",
       "      <td>drama</td>\n",
       "      <td>Listening in to a conversation between his do...</td>\n",
       "      <td>546</td>\n",
       "      <td>listening conversation doctor parent oscar lea...</td>\n",
       "    </tr>\n",
       "    <tr>\n",
       "      <th>1</th>\n",
       "      <td>2</td>\n",
       "      <td>Cupid (1997)</td>\n",
       "      <td>thriller</td>\n",
       "      <td>A brother and sister with a past incestuous r...</td>\n",
       "      <td>184</td>\n",
       "      <td>brother sister past incestuous relationship cu...</td>\n",
       "    </tr>\n",
       "    <tr>\n",
       "      <th>2</th>\n",
       "      <td>3</td>\n",
       "      <td>Young, Wild and Wonderful (1980)</td>\n",
       "      <td>adult</td>\n",
       "      <td>As the bus empties the students for their fie...</td>\n",
       "      <td>650</td>\n",
       "      <td>bus empty student field trip museum natural hi...</td>\n",
       "    </tr>\n",
       "    <tr>\n",
       "      <th>3</th>\n",
       "      <td>4</td>\n",
       "      <td>The Secret Sin (1915)</td>\n",
       "      <td>drama</td>\n",
       "      <td>To help their unemployed father make ends mee...</td>\n",
       "      <td>1082</td>\n",
       "      <td>help unemployed father make end meet edith twi...</td>\n",
       "    </tr>\n",
       "    <tr>\n",
       "      <th>4</th>\n",
       "      <td>5</td>\n",
       "      <td>The Unrecovered (2007)</td>\n",
       "      <td>drama</td>\n",
       "      <td>The film's title refers not only to the un-re...</td>\n",
       "      <td>625</td>\n",
       "      <td>film title refers body ground zero also state ...</td>\n",
       "    </tr>\n",
       "    <tr>\n",
       "      <th>5</th>\n",
       "      <td>6</td>\n",
       "      <td>Quality Control (2011)</td>\n",
       "      <td>documentary</td>\n",
       "      <td>Quality Control consists of a series of 16mm ...</td>\n",
       "      <td>1609</td>\n",
       "      <td>quality control consists series 16mm single ta...</td>\n",
       "    </tr>\n",
       "    <tr>\n",
       "      <th>6</th>\n",
       "      <td>7</td>\n",
       "      <td>\"Pink Slip\" (2009)</td>\n",
       "      <td>comedy</td>\n",
       "      <td>In tough economic times Max and Joey have all...</td>\n",
       "      <td>345</td>\n",
       "      <td>tough economic time max joey run idea discover...</td>\n",
       "    </tr>\n",
       "    <tr>\n",
       "      <th>7</th>\n",
       "      <td>8</td>\n",
       "      <td>One Step Away (1985)</td>\n",
       "      <td>crime</td>\n",
       "      <td>Ron Petrie (Keanu Reeves) is a troubled teen ...</td>\n",
       "      <td>332</td>\n",
       "      <td>ron petrie keanu reef troubled teen whose life...</td>\n",
       "    </tr>\n",
       "    <tr>\n",
       "      <th>8</th>\n",
       "      <td>9</td>\n",
       "      <td>\"Desperate Hours\" (2016)</td>\n",
       "      <td>reality-tv</td>\n",
       "      <td>A sudden calamitous event, causing great loss...</td>\n",
       "      <td>456</td>\n",
       "      <td>sudden calamitous event causing great loss lif...</td>\n",
       "    </tr>\n",
       "    <tr>\n",
       "      <th>9</th>\n",
       "      <td>10</td>\n",
       "      <td>Spirits (2014/I)</td>\n",
       "      <td>horror</td>\n",
       "      <td>Four high school students embark on a terrify...</td>\n",
       "      <td>426</td>\n",
       "      <td>four high school student embark terrifying jou...</td>\n",
       "    </tr>\n",
       "  </tbody>\n",
       "</table>\n",
       "</div>"
      ],
      "text/plain": [
       "   ID                               TITLE          GENRE  \\\n",
       "0   1       Oscar et la dame rose (2009)          drama    \n",
       "1   2                       Cupid (1997)       thriller    \n",
       "2   3   Young, Wild and Wonderful (1980)          adult    \n",
       "3   4              The Secret Sin (1915)          drama    \n",
       "4   5             The Unrecovered (2007)          drama    \n",
       "5   6             Quality Control (2011)    documentary    \n",
       "6   7                 \"Pink Slip\" (2009)         comedy    \n",
       "7   8               One Step Away (1985)          crime    \n",
       "8   9           \"Desperate Hours\" (2016)     reality-tv    \n",
       "9  10                   Spirits (2014/I)         horror    \n",
       "\n",
       "                                         DESCRIPTION  Description_Length  \\\n",
       "0   Listening in to a conversation between his do...                 546   \n",
       "1   A brother and sister with a past incestuous r...                 184   \n",
       "2   As the bus empties the students for their fie...                 650   \n",
       "3   To help their unemployed father make ends mee...                1082   \n",
       "4   The film's title refers not only to the un-re...                 625   \n",
       "5   Quality Control consists of a series of 16mm ...                1609   \n",
       "6   In tough economic times Max and Joey have all...                 345   \n",
       "7   Ron Petrie (Keanu Reeves) is a troubled teen ...                 332   \n",
       "8   A sudden calamitous event, causing great loss...                 456   \n",
       "9   Four high school students embark on a terrify...                 426   \n",
       "\n",
       "                            Description_Preprocessed  \n",
       "0  listening conversation doctor parent oscar lea...  \n",
       "1  brother sister past incestuous relationship cu...  \n",
       "2  bus empty student field trip museum natural hi...  \n",
       "3  help unemployed father make end meet edith twi...  \n",
       "4  film title refers body ground zero also state ...  \n",
       "5  quality control consists series 16mm single ta...  \n",
       "6  tough economic time max joey run idea discover...  \n",
       "7  ron petrie keanu reef troubled teen whose life...  \n",
       "8  sudden calamitous event causing great loss lif...  \n",
       "9  four high school student embark terrifying jou...  "
      ]
     },
     "execution_count": 365,
     "metadata": {},
     "output_type": "execute_result"
    }
   ],
   "source": [
    "train_data.head(10)"
   ]
  },
  {
   "cell_type": "code",
   "execution_count": 366,
   "id": "84695756",
   "metadata": {},
   "outputs": [],
   "source": [
    "text_data = train_data['Description_Preprocessed']\n",
    "tfidf_vectorizer = TfidfVectorizer()\n",
    "tfidf_features = tfidf_vectorizer.fit_transform(text_data)"
   ]
  },
  {
   "cell_type": "code",
   "execution_count": 367,
   "id": "53cb6a83",
   "metadata": {},
   "outputs": [
    {
     "name": "stdout",
     "output_type": "stream",
     "text": [
      "  (0, 12049)\t0.1293098136799287\n",
      "  (0, 72549)\t0.18697281039355776\n",
      "  (0, 94538)\t0.14656043542592773\n",
      "  (0, 17917)\t0.1109200245497872\n",
      "  (0, 8222)\t0.19581515342363146\n",
      "  (0, 29732)\t0.20200496009350288\n",
      "  (0, 21497)\t0.1967358761979834\n",
      "  (0, 75092)\t0.13305616511806775\n",
      "  (0, 36332)\t0.06881849803900206\n",
      "  (0, 20061)\t0.10358956117137448\n",
      "  (0, 36659)\t0.10833332822036652\n",
      "  (0, 57440)\t0.0682182842375627\n",
      "  (0, 56290)\t0.050062569335069\n",
      "  (0, 3883)\t0.13924891030346856\n",
      "  (0, 17414)\t0.14635815087795745\n",
      "  (0, 106362)\t0.15116563664374807\n",
      "  (0, 45828)\t0.1383840921878808\n",
      "  (0, 106848)\t0.1760693273269924\n",
      "  (0, 76447)\t0.11588503652480718\n",
      "  (0, 32522)\t0.09208322793779954\n",
      "  (0, 33278)\t0.1888799664208931\n",
      "  (0, 101987)\t0.12118021015824282\n",
      "  (0, 5738)\t0.1256111934515223\n",
      "  (0, 18314)\t0.13277873756231665\n",
      "  (0, 91909)\t0.1835832590364172\n",
      "  :\t:\n",
      "  (54213, 79623)\t0.18966237304861322\n",
      "  (54213, 612)\t0.20107382317802855\n",
      "  (54213, 88205)\t0.19818284945777354\n",
      "  (54213, 25139)\t0.17959990651130353\n",
      "  (54213, 35150)\t0.1892551240667855\n",
      "  (54213, 106176)\t0.17513229984528597\n",
      "  (54213, 103828)\t0.16074452844500212\n",
      "  (54213, 9716)\t0.19911482930021923\n",
      "  (54213, 105325)\t0.16797778238888306\n",
      "  (54213, 47421)\t0.1732101319897903\n",
      "  (54213, 92755)\t0.17290180912809472\n",
      "  (54213, 514)\t0.24538328476740237\n",
      "  (54213, 66721)\t0.16187517831897807\n",
      "  (54213, 51899)\t0.16278011002538545\n",
      "  (54213, 32110)\t0.12447288226505447\n",
      "  (54213, 32150)\t0.12401511044746692\n",
      "  (54213, 92125)\t0.16658839726565056\n",
      "  (54213, 43743)\t0.1433474919682005\n",
      "  (54213, 4354)\t0.13007007413471133\n",
      "  (54213, 72129)\t0.14643795475046123\n",
      "  (54213, 39888)\t0.12356445684811772\n",
      "  (54213, 54234)\t0.19268557586197127\n",
      "  (54213, 23952)\t0.09085713661149364\n",
      "  (54213, 21869)\t0.11488647663028326\n",
      "  (54213, 58958)\t0.09184575411930761\n"
     ]
    }
   ],
   "source": [
    "print(tfidf_features)"
   ]
  },
  {
   "cell_type": "code",
   "execution_count": 368,
   "id": "59c5e31d",
   "metadata": {},
   "outputs": [],
   "source": [
    "X_train,X_test,y_train,y_test=train_test_split(train_data['Description_Preprocessed'],\n",
    "                                               train_data['GENRE'],\n",
    "                                               test_size=0.2,\n",
    "                                               random_state=42)\n",
    "X_train_tfidf = tfidf_vectorizer.fit_transform(X_train)"
   ]
  },
  {
   "cell_type": "code",
   "execution_count": 369,
   "id": "257af354",
   "metadata": {},
   "outputs": [
    {
     "data": {
      "text/html": [
       "<style>#sk-container-id-9 {color: black;}#sk-container-id-9 pre{padding: 0;}#sk-container-id-9 div.sk-toggleable {background-color: white;}#sk-container-id-9 label.sk-toggleable__label {cursor: pointer;display: block;width: 100%;margin-bottom: 0;padding: 0.3em;box-sizing: border-box;text-align: center;}#sk-container-id-9 label.sk-toggleable__label-arrow:before {content: \"▸\";float: left;margin-right: 0.25em;color: #696969;}#sk-container-id-9 label.sk-toggleable__label-arrow:hover:before {color: black;}#sk-container-id-9 div.sk-estimator:hover label.sk-toggleable__label-arrow:before {color: black;}#sk-container-id-9 div.sk-toggleable__content {max-height: 0;max-width: 0;overflow: hidden;text-align: left;background-color: #f0f8ff;}#sk-container-id-9 div.sk-toggleable__content pre {margin: 0.2em;color: black;border-radius: 0.25em;background-color: #f0f8ff;}#sk-container-id-9 input.sk-toggleable__control:checked~div.sk-toggleable__content {max-height: 200px;max-width: 100%;overflow: auto;}#sk-container-id-9 input.sk-toggleable__control:checked~label.sk-toggleable__label-arrow:before {content: \"▾\";}#sk-container-id-9 div.sk-estimator input.sk-toggleable__control:checked~label.sk-toggleable__label {background-color: #d4ebff;}#sk-container-id-9 div.sk-label input.sk-toggleable__control:checked~label.sk-toggleable__label {background-color: #d4ebff;}#sk-container-id-9 input.sk-hidden--visually {border: 0;clip: rect(1px 1px 1px 1px);clip: rect(1px, 1px, 1px, 1px);height: 1px;margin: -1px;overflow: hidden;padding: 0;position: absolute;width: 1px;}#sk-container-id-9 div.sk-estimator {font-family: monospace;background-color: #f0f8ff;border: 1px dotted black;border-radius: 0.25em;box-sizing: border-box;margin-bottom: 0.5em;}#sk-container-id-9 div.sk-estimator:hover {background-color: #d4ebff;}#sk-container-id-9 div.sk-parallel-item::after {content: \"\";width: 100%;border-bottom: 1px solid gray;flex-grow: 1;}#sk-container-id-9 div.sk-label:hover label.sk-toggleable__label {background-color: #d4ebff;}#sk-container-id-9 div.sk-serial::before {content: \"\";position: absolute;border-left: 1px solid gray;box-sizing: border-box;top: 0;bottom: 0;left: 50%;z-index: 0;}#sk-container-id-9 div.sk-serial {display: flex;flex-direction: column;align-items: center;background-color: white;padding-right: 0.2em;padding-left: 0.2em;position: relative;}#sk-container-id-9 div.sk-item {position: relative;z-index: 1;}#sk-container-id-9 div.sk-parallel {display: flex;align-items: stretch;justify-content: center;background-color: white;position: relative;}#sk-container-id-9 div.sk-item::before, #sk-container-id-9 div.sk-parallel-item::before {content: \"\";position: absolute;border-left: 1px solid gray;box-sizing: border-box;top: 0;bottom: 0;left: 50%;z-index: -1;}#sk-container-id-9 div.sk-parallel-item {display: flex;flex-direction: column;z-index: 1;position: relative;background-color: white;}#sk-container-id-9 div.sk-parallel-item:first-child::after {align-self: flex-end;width: 50%;}#sk-container-id-9 div.sk-parallel-item:last-child::after {align-self: flex-start;width: 50%;}#sk-container-id-9 div.sk-parallel-item:only-child::after {width: 0;}#sk-container-id-9 div.sk-dashed-wrapped {border: 1px dashed gray;margin: 0 0.4em 0.5em 0.4em;box-sizing: border-box;padding-bottom: 0.4em;background-color: white;}#sk-container-id-9 div.sk-label label {font-family: monospace;font-weight: bold;display: inline-block;line-height: 1.2em;}#sk-container-id-9 div.sk-label-container {text-align: center;}#sk-container-id-9 div.sk-container {/* jupyter's `normalize.less` sets `[hidden] { display: none; }` but bootstrap.min.css set `[hidden] { display: none !important; }` so we also need the `!important` here to be able to override the default hidden behavior on the sphinx rendered scikit-learn.org. See: https://github.com/scikit-learn/scikit-learn/issues/21755 */display: inline-block !important;position: relative;}#sk-container-id-9 div.sk-text-repr-fallback {display: none;}</style><div id=\"sk-container-id-9\" class=\"sk-top-container\"><div class=\"sk-text-repr-fallback\"><pre>MultinomialNB()</pre><b>In a Jupyter environment, please rerun this cell to show the HTML representation or trust the notebook. <br />On GitHub, the HTML representation is unable to render, please try loading this page with nbviewer.org.</b></div><div class=\"sk-container\" hidden><div class=\"sk-item\"><div class=\"sk-estimator sk-toggleable\"><input class=\"sk-toggleable__control sk-hidden--visually\" id=\"sk-estimator-id-9\" type=\"checkbox\" checked><label for=\"sk-estimator-id-9\" class=\"sk-toggleable__label sk-toggleable__label-arrow\">MultinomialNB</label><div class=\"sk-toggleable__content\"><pre>MultinomialNB()</pre></div></div></div></div></div>"
      ],
      "text/plain": [
       "MultinomialNB()"
      ]
     },
     "execution_count": 369,
     "metadata": {},
     "output_type": "execute_result"
    }
   ],
   "source": [
    "nb_classifier = MultinomialNB()\n",
    "nb_classifier.fit(X_train_tfidf,y_train)"
   ]
  },
  {
   "cell_type": "code",
   "execution_count": 370,
   "id": "059ec11e",
   "metadata": {},
   "outputs": [],
   "source": [
    "X_test_tfidf = tfidf_vectorizer.transform(X_test)\n",
    "pred = nb_classifier.predict(X_test_tfidf)"
   ]
  },
  {
   "cell_type": "code",
   "execution_count": 371,
   "id": "a21b19a4",
   "metadata": {},
   "outputs": [
    {
     "name": "stderr",
     "output_type": "stream",
     "text": [
      "/Users/prakashkannan/anaconda3/lib/python3.11/site-packages/sklearn/metrics/_classification.py:1469: UndefinedMetricWarning: Precision is ill-defined and being set to 0.0 in labels with no predicted samples. Use `zero_division` parameter to control this behavior.\n",
      "  _warn_prf(average, modifier, msg_start, len(result))\n"
     ]
    }
   ],
   "source": [
    "accuracy = accuracy_score(y_test,pred)\n",
    "precision = precision_score(y_test,pred,average='weighted')\n",
    "recall = recall_score(y_test,pred,average='weighted')\n",
    "f1 = f1_score(y_test,pred,average='weighted')"
   ]
  },
  {
   "cell_type": "code",
   "execution_count": 372,
   "id": "c01ac5ab",
   "metadata": {},
   "outputs": [
    {
     "name": "stdout",
     "output_type": "stream",
     "text": [
      "accuracy : 0.44369639398690397\n",
      "precision : 0.31306016064324077\n",
      "recall : 0.44369639398690397\n",
      "f1 : 0.30615080860860944\n"
     ]
    }
   ],
   "source": [
    "print(\"accuracy :\",accuracy)\n",
    "print(\"precision :\",precision)\n",
    "print(\"recall :\",recall)\n",
    "print(\"f1 :\",f1)"
   ]
  },
  {
   "cell_type": "code",
   "execution_count": 373,
   "id": "f4450cc5",
   "metadata": {},
   "outputs": [
    {
     "name": "stdout",
     "output_type": "stream",
     "text": [
      "Validation Accuracy: 0.44369639398690397\n",
      "Validation Classification Report:\n",
      "                precision    recall  f1-score   support\n",
      "\n",
      "      action        0.00      0.00      0.00       263\n",
      "       adult        0.00      0.00      0.00       112\n",
      "   adventure        0.00      0.00      0.00       139\n",
      "   animation        0.00      0.00      0.00       104\n",
      "   biography        0.00      0.00      0.00        61\n",
      "      comedy        0.67      0.05      0.09      1443\n",
      "       crime        0.00      0.00      0.00       107\n",
      " documentary        0.53      0.89      0.66      2659\n",
      "       drama        0.38      0.88      0.53      2697\n",
      "      family        0.00      0.00      0.00       150\n",
      "     fantasy        0.00      0.00      0.00        74\n",
      "   game-show        0.00      0.00      0.00        40\n",
      "     history        0.00      0.00      0.00        45\n",
      "      horror        0.00      0.00      0.00       431\n",
      "       music        0.00      0.00      0.00       144\n",
      "     musical        0.00      0.00      0.00        50\n",
      "     mystery        0.00      0.00      0.00        56\n",
      "        news        0.00      0.00      0.00        34\n",
      "  reality-tv        0.00      0.00      0.00       192\n",
      "     romance        0.00      0.00      0.00       151\n",
      "      sci-fi        0.00      0.00      0.00       143\n",
      "       short        0.00      0.00      0.00      1045\n",
      "       sport        0.00      0.00      0.00        93\n",
      "   talk-show        0.00      0.00      0.00        81\n",
      "    thriller        0.00      0.00      0.00       309\n",
      "         war        0.00      0.00      0.00        20\n",
      "     western        0.00      0.00      0.00       200\n",
      "\n",
      "     accuracy                           0.44     10843\n",
      "    macro avg       0.06      0.07      0.05     10843\n",
      " weighted avg       0.31      0.44      0.31     10843\n",
      "\n"
     ]
    },
    {
     "name": "stderr",
     "output_type": "stream",
     "text": [
      "/Users/prakashkannan/anaconda3/lib/python3.11/site-packages/sklearn/metrics/_classification.py:1469: UndefinedMetricWarning: Precision and F-score are ill-defined and being set to 0.0 in labels with no predicted samples. Use `zero_division` parameter to control this behavior.\n",
      "  _warn_prf(average, modifier, msg_start, len(result))\n",
      "/Users/prakashkannan/anaconda3/lib/python3.11/site-packages/sklearn/metrics/_classification.py:1469: UndefinedMetricWarning: Precision and F-score are ill-defined and being set to 0.0 in labels with no predicted samples. Use `zero_division` parameter to control this behavior.\n",
      "  _warn_prf(average, modifier, msg_start, len(result))\n",
      "/Users/prakashkannan/anaconda3/lib/python3.11/site-packages/sklearn/metrics/_classification.py:1469: UndefinedMetricWarning: Precision and F-score are ill-defined and being set to 0.0 in labels with no predicted samples. Use `zero_division` parameter to control this behavior.\n",
      "  _warn_prf(average, modifier, msg_start, len(result))\n"
     ]
    }
   ],
   "source": [
    "\n",
    "print(\"Validation Accuracy:\", accuracy_score(y_test, pred))\n",
    "\n",
    "print(\"Validation Classification Report:\\n\", classification_report(y_test, pred))\n",
    "\n"
   ]
  },
  {
   "cell_type": "code",
   "execution_count": 374,
   "id": "8caebcad",
   "metadata": {},
   "outputs": [
    {
     "name": "stdout",
     "output_type": "stream",
     "text": [
      "Predicted Genre:  drama \n"
     ]
    }
   ],
   "source": [
    "def predict_genre(description):\n",
    "    description_preprocessed = preprocess_text(description)\n",
    "    tfidf_vectorizer1 = tfidf_vectorizer.transform([description_preprocessed])\n",
    "    predicted_genre = nb_classifier.predict(tfidf_vectorizer1)[0]\n",
    "    return predicted_genre\n",
    "description =\"In tough economic times Max and Joey have all but run out of ideas until, they discover that senior housing is cheap. Not only that but Max's aunt just kicked the bucket and no one knows yet. In a hilarious series that always keeps you on your toes, the two friends take us on a cross-dressing, desperate and endearing ride through being broke.\"\n",
    "predicted_genre = predict_genre(description)\n",
    "print(\"Predicted Genre:\", predicted_genre)"
   ]
  },
  {
   "cell_type": "code",
   "execution_count": null,
   "id": "9ce18fe7",
   "metadata": {},
   "outputs": [],
   "source": []
  },
  {
   "cell_type": "code",
   "execution_count": null,
   "id": "e80183ef",
   "metadata": {},
   "outputs": [],
   "source": []
  },
  {
   "cell_type": "code",
   "execution_count": null,
   "id": "32307d99",
   "metadata": {},
   "outputs": [],
   "source": []
  }
 ],
 "metadata": {
  "kernelspec": {
   "display_name": "Python 3 (ipykernel)",
   "language": "python",
   "name": "python3"
  },
  "language_info": {
   "codemirror_mode": {
    "name": "ipython",
    "version": 3
   },
   "file_extension": ".py",
   "mimetype": "text/x-python",
   "name": "python",
   "nbconvert_exporter": "python",
   "pygments_lexer": "ipython3",
   "version": "3.11.5"
  }
 },
 "nbformat": 4,
 "nbformat_minor": 5
}
